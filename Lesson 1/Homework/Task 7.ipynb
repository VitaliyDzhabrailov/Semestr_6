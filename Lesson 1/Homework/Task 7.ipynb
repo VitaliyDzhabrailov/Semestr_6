{
 "cells": [
  {
   "cell_type": "code",
   "execution_count": 6,
   "metadata": {
    "collapsed": true
   },
   "outputs": [],
   "source": [
    "import numpy as np"
   ]
  },
  {
   "cell_type": "code",
   "execution_count": 14,
   "outputs": [],
   "source": [
    "def my_mean(x):\n",
    "    return np.sum(x, axis=0) / x.shape[0]"
   ],
   "metadata": {
    "collapsed": false
   }
  },
  {
   "cell_type": "code",
   "execution_count": 15,
   "outputs": [],
   "source": [
    "def my_cov(x):\n",
    "    return 1 / x.shape[0] * (x - my_mean(x)).T @ (x - my_mean(x))"
   ],
   "metadata": {
    "collapsed": false
   }
  },
  {
   "cell_type": "code",
   "execution_count": 16,
   "outputs": [
    {
     "name": "stdout",
     "output_type": "stream",
     "text": [
      "[[175   4]\n",
      " [ 20   2]\n",
      " [ 25   8]]\n",
      "[73.33333333  4.66666667]\n"
     ]
    }
   ],
   "source": [
    "x = np.array([[175, 4], [20, 2],  [25, 8]])\n",
    "print(x)\n",
    "print(my_mean(x))"
   ],
   "metadata": {
    "collapsed": false
   }
  },
  {
   "cell_type": "code",
   "execution_count": 17,
   "outputs": [
    {
     "name": "stdout",
     "output_type": "stream",
     "text": [
      "[[175   4]\n",
      " [ 20   2]\n",
      " [ 25   8]]\n",
      "[[5172.22222222  -28.88888889]\n",
      " [ -28.88888889    6.22222222]]\n"
     ]
    }
   ],
   "source": [
    "x = np.array([[175, 4], [20, 2],  [25, 8]])\n",
    "print(x)\n",
    "print(my_cov(x))"
   ],
   "metadata": {
    "collapsed": false
   }
  },
  {
   "cell_type": "code",
   "execution_count": null,
   "outputs": [],
   "source": [],
   "metadata": {
    "collapsed": false
   }
  }
 ],
 "metadata": {
  "kernelspec": {
   "display_name": "Python 3",
   "language": "python",
   "name": "python3"
  },
  "language_info": {
   "codemirror_mode": {
    "name": "ipython",
    "version": 2
   },
   "file_extension": ".py",
   "mimetype": "text/x-python",
   "name": "python",
   "nbconvert_exporter": "python",
   "pygments_lexer": "ipython2",
   "version": "2.7.6"
  }
 },
 "nbformat": 4,
 "nbformat_minor": 0
}

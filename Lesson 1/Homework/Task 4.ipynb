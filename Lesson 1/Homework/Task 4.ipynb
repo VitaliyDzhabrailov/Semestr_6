{
 "cells": [
  {
   "cell_type": "code",
   "execution_count": 1,
   "metadata": {
    "collapsed": true
   },
   "outputs": [],
   "source": [
    "import numpy as np"
   ]
  },
  {
   "cell_type": "code",
   "execution_count": 74,
   "outputs": [],
   "source": [
    "def smth(x):\n",
    "    flag = (x == 0)\n",
    "    flag[-1] = False\n",
    "    y = x * np.roll(flag, 1)\n",
    "    print(x)\n",
    "    print(y)\n",
    "    y_max = y.max()\n",
    "    if y_max == 0:\n",
    "        return 'Wrong list'\n",
    "    else:\n",
    "        return y_max"
   ],
   "metadata": {
    "collapsed": false
   }
  },
  {
   "cell_type": "code",
   "execution_count": 75,
   "outputs": [
    {
     "name": "stdout",
     "output_type": "stream",
     "text": [
      "[ 0 11  0  0 -7  2  0  4  0]\n",
      "[ 0 11  0  0 -7  0  0  4  0]\n"
     ]
    },
    {
     "data": {
      "text/plain": "11"
     },
     "execution_count": 75,
     "metadata": {},
     "output_type": "execute_result"
    }
   ],
   "source": [
    "x = np.array([0, 11, 0, 0, -7, 2, 0, 4, 0])\n",
    "smth(x)"
   ],
   "metadata": {
    "collapsed": false
   }
  },
  {
   "cell_type": "code",
   "execution_count": 76,
   "outputs": [
    {
     "name": "stdout",
     "output_type": "stream",
     "text": [
      "[ 0 11  0  0 -7  2  0 20  0]\n",
      "[ 0 11  0  0 -7  0  0 20  0]\n"
     ]
    },
    {
     "data": {
      "text/plain": "20"
     },
     "execution_count": 76,
     "metadata": {},
     "output_type": "execute_result"
    }
   ],
   "source": [
    "x = np.array([0, 11, 0, 0, -7, 2, 0, 20, 0])\n",
    "smth(x)"
   ],
   "metadata": {
    "collapsed": false
   }
  },
  {
   "cell_type": "code",
   "execution_count": 77,
   "outputs": [
    {
     "name": "stdout",
     "output_type": "stream",
     "text": [
      "[0 1]\n",
      "[0 1]\n"
     ]
    },
    {
     "data": {
      "text/plain": "1"
     },
     "execution_count": 77,
     "metadata": {},
     "output_type": "execute_result"
    }
   ],
   "source": [
    "x = np.array([0, 1])\n",
    "smth(x)"
   ],
   "metadata": {
    "collapsed": false
   }
  },
  {
   "cell_type": "code",
   "execution_count": 78,
   "outputs": [
    {
     "name": "stdout",
     "output_type": "stream",
     "text": [
      "[1 0]\n",
      "[0 0]\n"
     ]
    },
    {
     "data": {
      "text/plain": "'Wrong list'"
     },
     "execution_count": 78,
     "metadata": {},
     "output_type": "execute_result"
    }
   ],
   "source": [
    "x = np.array([1, 0])\n",
    "smth(x)"
   ],
   "metadata": {
    "collapsed": false
   }
  },
  {
   "cell_type": "code",
   "execution_count": 79,
   "outputs": [
    {
     "name": "stdout",
     "output_type": "stream",
     "text": [
      "[ 0 11  0  0 -7  2  5  6  7  0  4 22]\n",
      "[ 0 11  0  0 -7  0  0  0  0  0  4  0]\n"
     ]
    },
    {
     "data": {
      "text/plain": "11"
     },
     "execution_count": 79,
     "metadata": {},
     "output_type": "execute_result"
    }
   ],
   "source": [
    "x = np.array([0, 11, 0, 0, -7, 2, 5, 6, 7, 0, 4, 22])\n",
    "smth(x)"
   ],
   "metadata": {
    "collapsed": false
   }
  },
  {
   "cell_type": "code",
   "execution_count": 80,
   "outputs": [
    {
     "name": "stdout",
     "output_type": "stream",
     "text": [
      "[ 0 11  0  0 -7  2  5  6  7  0  4  0 22]\n",
      "[ 0 11  0  0 -7  0  0  0  0  0  4  0 22]\n"
     ]
    },
    {
     "data": {
      "text/plain": "22"
     },
     "execution_count": 80,
     "metadata": {},
     "output_type": "execute_result"
    }
   ],
   "source": [
    "x = np.array([0, 11, 0, 0, -7, 2, 5, 6, 7, 0, 4, 0, 22])\n",
    "smth(x)"
   ],
   "metadata": {
    "collapsed": false
   }
  },
  {
   "cell_type": "code",
   "execution_count": null,
   "outputs": [],
   "source": [],
   "metadata": {
    "collapsed": false
   }
  }
 ],
 "metadata": {
  "kernelspec": {
   "display_name": "Python 3",
   "language": "python",
   "name": "python3"
  },
  "language_info": {
   "codemirror_mode": {
    "name": "ipython",
    "version": 2
   },
   "file_extension": ".py",
   "mimetype": "text/x-python",
   "name": "python",
   "nbconvert_exporter": "python",
   "pygments_lexer": "ipython2",
   "version": "2.7.6"
  }
 },
 "nbformat": 4,
 "nbformat_minor": 0
}

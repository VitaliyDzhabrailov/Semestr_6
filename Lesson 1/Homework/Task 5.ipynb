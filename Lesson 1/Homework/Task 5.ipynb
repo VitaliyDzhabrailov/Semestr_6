{
 "cells": [
  {
   "cell_type": "code",
   "execution_count": 1,
   "metadata": {
    "collapsed": true
   },
   "outputs": [],
   "source": [
    "import numpy as np"
   ]
  },
  {
   "cell_type": "code",
   "execution_count": 14,
   "outputs": [],
   "source": [
    "def smth(x):\n",
    "    flag = x == 0\n",
    "    return x + np.roll(x, 1) * flag"
   ],
   "metadata": {
    "collapsed": false
   }
  },
  {
   "cell_type": "code",
   "execution_count": 82,
   "outputs": [],
   "source": [
    "x = np.array([8, 0, 0, 1, 0, 0, 0, -17.5, 0])\n",
    "# smth(x)"
   ],
   "metadata": {
    "collapsed": false
   }
  },
  {
   "cell_type": "code",
   "execution_count": 83,
   "outputs": [
    {
     "data": {
      "text/plain": "array([[  8. ,   0. ],\n       [  0. ,   8. ],\n       [  0. ,   0. ],\n       [  1. ,   0. ],\n       [  0. ,   1. ],\n       [  0. ,   0. ],\n       [  0. ,   0. ],\n       [-17.5,   0. ],\n       [  0. , -17.5]])"
     },
     "execution_count": 83,
     "metadata": {},
     "output_type": "execute_result"
    }
   ],
   "source": [
    "T_F = x == 0\n",
    "np.concatenate((x.reshape((9, 1)), np.roll(x, 1).reshape(9, 1)), axis=1)"
   ],
   "metadata": {
    "collapsed": false
   }
  },
  {
   "cell_type": "code",
   "execution_count": 87,
   "outputs": [
    {
     "name": "stdout",
     "output_type": "stream",
     "text": [
      "[[  8.    0.    0.    1.    0.    0.    0.  -17.5   0. ]\n",
      " [  8.    0.    0.    1.    0.    0.    0.  -17.5   0. ]\n",
      " [  8.    0.    0.    1.    0.    0.    0.  -17.5   0. ]\n",
      " [  8.    0.    0.    1.    0.    0.    0.  -17.5   0. ]\n",
      " [  8.    0.    0.    1.    0.    0.    0.  -17.5   0. ]\n",
      " [  8.    0.    0.    1.    0.    0.    0.  -17.5   0. ]\n",
      " [  8.    0.    0.    1.    0.    0.    0.  -17.5   0. ]\n",
      " [  8.    0.    0.    1.    0.    0.    0.  -17.5   0. ]\n",
      " [  8.    0.    0.    1.    0.    0.    0.  -17.5   0. ]]\n",
      "[[  8.    0.    0.    1.    0.    0.    0.  -17.5   0. ]\n",
      " [  8.    0.    0.    1.    0.    0.    0.  -17.5   0. ]\n",
      " [  8.    0.    0.    1.    0.    0.    0.  -17.5   0. ]\n",
      " [  8.    0.    0.    1.    0.    0.    0.  -17.5   0. ]\n",
      " [  8.    0.    0.    1.    0.    0.    0.  -17.5   0. ]\n",
      " [  8.    0.    0.    1.    0.    0.    0.  -17.5   0. ]\n",
      " [  8.    0.    0.    1.    0.    0.    0.  -17.5   0. ]\n",
      " [  8.    0.    0.    1.    0.    0.    0.  -17.5   0. ]\n",
      " [  8.    0.    0.    1.    0.    0.    0.  -17.5   0. ]]\n"
     ]
    }
   ],
   "source": [
    "base_m = np.repeat(x.reshape(1,9), 9, axis=0)\n",
    "print(base_m)\n",
    "print(np.roll(base_m, np.arange(0, 9)))"
   ],
   "metadata": {
    "collapsed": false
   }
  },
  {
   "cell_type": "code",
   "execution_count": 89,
   "outputs": [
    {
     "name": "stdout",
     "output_type": "stream",
     "text": [
      "[[1. 0. 0.]\n",
      " [0. 1. 0.]\n",
      " [0. 0. 1.]]\n",
      "[[0. 0. 1.]\n",
      " [1. 0. 0.]\n",
      " [0. 1. 0.]]\n"
     ]
    }
   ],
   "source": [
    "roll_m = np.roll(np.eye(3), np.arange(0, 3))\n",
    "print(np.eye(3))\n",
    "print(roll_m)"
   ],
   "metadata": {
    "collapsed": false
   }
  },
  {
   "cell_type": "code",
   "execution_count": 96,
   "outputs": [
    {
     "name": "stdout",
     "output_type": "stream",
     "text": [
      "[[1. 0. 0.]\n",
      " [0. 1. 0.]\n",
      " [0. 0. 1.]]\n",
      "[[0. 1. 1.]\n",
      " [0. 0. 0.]\n",
      " [1. 0. 0.]]\n"
     ]
    }
   ],
   "source": [
    "roll_m = np.roll(np.eye(3), [2])\n",
    "print(np.eye(3))\n",
    "print(roll_m)"
   ],
   "metadata": {
    "collapsed": false
   }
  },
  {
   "cell_type": "code",
   "execution_count": null,
   "outputs": [],
   "source": [],
   "metadata": {
    "collapsed": false
   }
  }
 ],
 "metadata": {
  "kernelspec": {
   "display_name": "Python 3",
   "language": "python",
   "name": "python3"
  },
  "language_info": {
   "codemirror_mode": {
    "name": "ipython",
    "version": 2
   },
   "file_extension": ".py",
   "mimetype": "text/x-python",
   "name": "python",
   "nbconvert_exporter": "python",
   "pygments_lexer": "ipython2",
   "version": "2.7.6"
  }
 },
 "nbformat": 4,
 "nbformat_minor": 0
}

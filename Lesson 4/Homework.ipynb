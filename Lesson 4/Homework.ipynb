{
 "cells": [
  {
   "cell_type": "code",
   "execution_count": 3,
   "metadata": {
    "collapsed": true
   },
   "outputs": [],
   "source": [
    "import sqlite3"
   ]
  },
  {
   "cell_type": "code",
   "execution_count": 4,
   "outputs": [],
   "source": [
    "DB_PATH = \"Books.db\"\n",
    "connection = sqlite3.connect(DB_PATH)"
   ],
   "metadata": {
    "collapsed": false
   }
  },
  {
   "cell_type": "code",
   "execution_count": 5,
   "outputs": [],
   "source": [
    "cursor = connection.cursor()\n",
    "\n",
    "\n",
    "cursor.execute('''\n",
    "    CREATE TABLE  IF NOT EXISTS Book(\n",
    "        id INTEGER PRIMARY KEY,\n",
    "        author TEXT,\n",
    "        title TEXT,\n",
    "        publish_year TEXT\n",
    "    );\n",
    "''')\n",
    "\n",
    "\n",
    "connection.commit()"
   ],
   "metadata": {
    "collapsed": false
   }
  },
  {
   "cell_type": "code",
   "execution_count": 6,
   "outputs": [],
   "source": [
    "cursor.execute('''\n",
    "    CREATE TABLE IF NOT EXISTS Reader(\n",
    "        id INTEGER PRIMARY KEY,\n",
    "        name TEXT\n",
    "    );\n",
    "''')\n",
    "\n",
    "\n",
    "connection.commit()"
   ],
   "metadata": {
    "collapsed": false
   }
  },
  {
   "cell_type": "code",
   "execution_count": 7,
   "outputs": [],
   "source": [
    "cursor.execute('''\n",
    "    CREATE TABLE IF NOT EXISTS Record(\n",
    "        book_id INT NOT NULL,\n",
    "        reader_id INT NOT NULL,\n",
    "        taking_date TEXT,\n",
    "        returning_date TEXT,\n",
    "        FOREIGN KEY (book_id) REFERENCES Book (id),\n",
    "        FOREIGN KEY (reader_id) REFERENCES Reader (id)\n",
    "    );\n",
    "''')\n",
    "\n",
    "\n",
    "connection.commit()"
   ],
   "metadata": {
    "collapsed": false
   }
  },
  {
   "cell_type": "code",
   "execution_count": 61,
   "outputs": [],
   "source": [
    "cursor.execute('''\n",
    "    DELETE FROM Reader\n",
    "''')\n",
    "\n",
    "cursor.execute('''\n",
    "    INSERT INTO Reader VALUES\n",
    "        (1, 'Reader 1'),\n",
    "        (2, 'Reader 2'),\n",
    "        (3, 'Reader 3');\n",
    "''')\n",
    "\n",
    "connection.commit()"
   ],
   "metadata": {
    "collapsed": false
   }
  },
  {
   "cell_type": "code",
   "execution_count": 229,
   "outputs": [],
   "source": [
    "cursor.execute('''\n",
    "    DELETE FROM Book\n",
    "''')\n",
    "\n",
    "cursor.execute('''\n",
    "    INSERT INTO Book VALUES\n",
    "        (1, 'author 1', 'title 1', '2002'),\n",
    "        (2, 'author 2', 'title 2', '2002'),\n",
    "        (3, 'author 3', 'title 3', '2003'),\n",
    "        (4, 'author 1', 'title 4', '2002'),\n",
    "        (5, 'author 1', 'title 1', '2004'),\n",
    "        (6, 'author 4', 'title 5', '2005'),\n",
    "        (7, 'author 5', 'title 6', '2022');\n",
    "''')\n",
    "\n",
    "connection.commit()"
   ],
   "metadata": {
    "collapsed": false
   }
  },
  {
   "cell_type": "code",
   "execution_count": 263,
   "outputs": [],
   "source": [
    "cursor = connection.cursor()\n",
    "cursor.execute('''\n",
    "    DELETE FROM Record\n",
    "''')\n",
    "\n",
    "cursor.execute('''\n",
    "    INSERT INTO Record VALUES\n",
    "        (1, 1, '04.03.2010', '04.04.2010'),\n",
    "        (1, 2, '04.03.2011', '11.22.2011'),\n",
    "        (2, 5, '04.03.2012', '05.23.2012'),\n",
    "        (1, 4, '04.03.2010', '04.14.2010'),\n",
    "        (3, 1, '05.03.2010', '04.03.2011');\n",
    "''')\n",
    "\n",
    "connection.commit()"
   ],
   "metadata": {
    "collapsed": false
   }
  },
  {
   "cell_type": "code",
   "execution_count": 64,
   "outputs": [
    {
     "name": "stdout",
     "output_type": "stream",
     "text": [
      "[(1, 'author 1', 'title 1', '2002')] \n",
      "\n",
      "[(1, 'Reader 1')] \n",
      "\n",
      "[(2, 5, '04.03.2012', '05.23.2012')] \n",
      "\n"
     ]
    }
   ],
   "source": [
    "cursor = connection.cursor()\n",
    "\n",
    "cursor.execute(\"SELECT * FROM Book WHERE id = 1\")\n",
    "print(cursor.fetchall(), '\\n')\n",
    "\n",
    "cursor.execute(\"SELECT * FROM Reader WHERE id = 1\")\n",
    "print(cursor.fetchall(), '\\n')\n",
    "\n",
    "cursor.execute(\"SELECT * FROM Record WHERE book_id = 2\")\n",
    "print(cursor.fetchall(), '\\n')"
   ],
   "metadata": {
    "collapsed": false
   }
  },
  {
   "cell_type": "markdown",
   "source": [
    "Вывод списка книг"
   ],
   "metadata": {
    "collapsed": false
   }
  },
  {
   "cell_type": "code",
   "execution_count": 65,
   "outputs": [
    {
     "name": "stdout",
     "output_type": "stream",
     "text": [
      "title 1\n",
      "title 2\n",
      "title 3\n",
      "title 4\n",
      "title 1\n",
      "title 5\n",
      "title 6\n"
     ]
    }
   ],
   "source": [
    "def list_of_books():\n",
    "    cursor = connection.cursor()\n",
    "\n",
    "    book_index = list(cursor.execute(\"SELECT id FROM Book\"))\n",
    "    for i in book_index:\n",
    "        cursor.execute(\"SELECT title FROM Book WHERE id={0}\".format(i[0]))\n",
    "        print(cursor.fetchall()[0][0])\n",
    "\n",
    "list_of_books()"
   ],
   "metadata": {
    "collapsed": false
   }
  },
  {
   "cell_type": "markdown",
   "source": [
    "Вывод списка читателей"
   ],
   "metadata": {
    "collapsed": false
   }
  },
  {
   "cell_type": "code",
   "execution_count": 67,
   "outputs": [
    {
     "name": "stdout",
     "output_type": "stream",
     "text": [
      "Reader 1\n",
      "Reader 2\n",
      "Reader 3\n"
     ]
    }
   ],
   "source": [
    "def list_of_readers():\n",
    "    cursor = connection.cursor()\n",
    "\n",
    "    reader_index = list(cursor.execute(\"SELECT id FROM Reader\"))\n",
    "    for i in reader_index:\n",
    "        cursor.execute(\"SELECT name FROM Reader WHERE id={0}\".format(i[0]))\n",
    "        print(cursor.fetchall()[0][0])\n",
    "\n",
    "list_of_readers()"
   ],
   "metadata": {
    "collapsed": false
   }
  },
  {
   "cell_type": "markdown",
   "source": [
    "Добавление книги"
   ],
   "metadata": {
    "collapsed": false
   }
  },
  {
   "cell_type": "code",
   "execution_count": 158,
   "outputs": [],
   "source": [
    "def add_book(author_str, title_str, publish_year_str):\n",
    "    cursor = connection.cursor()\n",
    "\n",
    "    book_index_1 = list(cursor.execute(\"SELECT id FROM Book\"))\n",
    "    book_index = []\n",
    "    for i in book_index_1:\n",
    "        book_index.append(int(i[0]))\n",
    "\n",
    "    book_index.sort()\n",
    "    id = book_index[-1] + 1\n",
    "    print(id)\n",
    "\n",
    "    cursor.executemany(\n",
    "        '''INSERT INTO Book(id, author, title, publish_year)\n",
    "            VALUES (?, ?, ?, ?);''',\n",
    "        [(id, author_str, title_str, publish_year_str)]\n",
    "    )\n",
    "\n",
    "    connection.commit()"
   ],
   "metadata": {
    "collapsed": false
   }
  },
  {
   "cell_type": "code",
   "execution_count": 159,
   "outputs": [
    {
     "name": "stdout",
     "output_type": "stream",
     "text": [
      "8\n",
      "[(1, 'author 1', 'title 1', '2002'), (2, 'author 2', 'title 2', '2002'), (3, 'author 3', 'title 3', '2003'), (4, 'author 1', 'title 4', '2002'), (5, 'author 1', 'title 1', '2004'), (6, 'author 4', 'title 5', '2005'), (7, 'author 5', 'title 6', '2022'), (8, 'author 1', 'title 4', '2005')]\n"
     ]
    }
   ],
   "source": [
    "add_book('author 1', 'title 4', '2005')\n",
    "\n",
    "cursor = connection.cursor()\n",
    "cursor.execute(\"SELECT * FROM Book\")\n",
    "print(cursor.fetchall())"
   ],
   "metadata": {
    "collapsed": false
   }
  },
  {
   "cell_type": "markdown",
   "source": [
    "Добавить читателя"
   ],
   "metadata": {
    "collapsed": false
   }
  },
  {
   "cell_type": "code",
   "execution_count": 161,
   "outputs": [],
   "source": [
    "def add_reader(name_str):\n",
    "    cursor = connection.cursor()\n",
    "\n",
    "    reader_index_1 = list(cursor.execute(\"SELECT id FROM Reader\"))\n",
    "    reader_index = []\n",
    "    for i in reader_index_1:\n",
    "        reader_index.append(int(i[0]))\n",
    "\n",
    "    reader_index.sort()\n",
    "    id = reader_index[-1] + 1\n",
    "\n",
    "    cursor.executemany(\n",
    "        '''INSERT INTO Reader(id, name)\n",
    "            VALUES (?, ?);''',\n",
    "        [(id, name_str)]\n",
    "    )\n",
    "\n",
    "    connection.commit()"
   ],
   "metadata": {
    "collapsed": false
   }
  },
  {
   "cell_type": "code",
   "execution_count": 163,
   "outputs": [
    {
     "name": "stdout",
     "output_type": "stream",
     "text": [
      "[(1, 'Reader 1'), (2, 'Reader 2'), (3, 'Reader 3'), (4, 'reader_10')]\n"
     ]
    }
   ],
   "source": [
    "add_reader('reader_10')\n",
    "\n",
    "cursor = connection.cursor()\n",
    "cursor.execute(\"SELECT * FROM Reader\")\n",
    "print(cursor.fetchall())"
   ],
   "metadata": {
    "collapsed": false
   }
  },
  {
   "cell_type": "markdown",
   "source": [
    "Выдать книгу читателю"
   ],
   "metadata": {
    "collapsed": false
   }
  },
  {
   "cell_type": "code",
   "execution_count": 237,
   "outputs": [],
   "source": [
    "def give_book(book_id_int, reader_id_int, taking_date_str, returning_date_str):\n",
    "    cursor = connection.cursor()\n",
    "\n",
    "    if type(reader_id_int) != int or type(book_id_int) != int:\n",
    "        raise TypeError(\"Need int!\")\n",
    "\n",
    "    reader_index_1 = list(cursor.execute(\"SELECT id FROM Reader\"))\n",
    "    reader_index = []\n",
    "    for i in reader_index_1:\n",
    "        reader_index.append(int(i[0]))\n",
    "\n",
    "    if reader_id_int not in reader_index:\n",
    "        raise AttributeError('There is no such reader')\n",
    "\n",
    "    book_index_1 = list(cursor.execute(\"SELECT id FROM Book\"))\n",
    "    book_index = []\n",
    "    for i in book_index_1:\n",
    "        book_index.append(int(i[0]))\n",
    "\n",
    "    if book_id_int not in book_index:\n",
    "        raise AttributeError('There is no such book')\n",
    "\n",
    "    cursor.execute(\n",
    "        '''SELECT * FROM Record WHERE book_id = {0} and reader_id = {1}'''.format(book_id_int, reader_id_int)\n",
    "    )\n",
    "\n",
    "    if cursor.fetchall() != []:\n",
    "        raise NameError(\"Reader have already got this book\")\n",
    "\n",
    "    cursor.executemany(\n",
    "        '''INSERT INTO Record(book_id, reader_id, taking_date, returning_date)\n",
    "            VALUES (?, ?, ?, ?);''',\n",
    "        [(book_id_int, reader_id_int, taking_date_str, returning_date_str)]\n",
    "    )\n",
    "\n",
    "    connection.commit()"
   ],
   "metadata": {
    "collapsed": false
   }
  },
  {
   "cell_type": "code",
   "execution_count": 249,
   "outputs": [
    {
     "name": "stdout",
     "output_type": "stream",
     "text": [
      "[(1, 1, '04.03.2010', '04.04.2010'), (1, 2, '04.03.2011', '11.22.2011'), (2, 5, '04.03.2012', '05.23.2012'), (1, 4, '04.03.2010', '04.14.2010'), (3, 1, '05.03.2010', '04.03.2011'), (5, 1, '10.04.2022', 'None')]\n"
     ]
    }
   ],
   "source": [
    "give_book(5, 1, '10.04.2022', 'None')\n",
    "\n",
    "cursor = connection.cursor()\n",
    "cursor.execute(\"SELECT * FROM Record\")\n",
    "print(cursor.fetchall())"
   ],
   "metadata": {
    "collapsed": false
   }
  },
  {
   "cell_type": "code",
   "execution_count": 242,
   "outputs": [
    {
     "ename": "NameError",
     "evalue": "Reader have already got this book",
     "output_type": "error",
     "traceback": [
      "\u001B[1;31m---------------------------------------------------------------------------\u001B[0m",
      "\u001B[1;31mNameError\u001B[0m                                 Traceback (most recent call last)",
      "Cell \u001B[1;32mIn [242], line 1\u001B[0m\n\u001B[1;32m----> 1\u001B[0m \u001B[43mgive_book\u001B[49m\u001B[43m(\u001B[49m\u001B[38;5;241;43m5\u001B[39;49m\u001B[43m,\u001B[49m\u001B[43m \u001B[49m\u001B[38;5;241;43m1\u001B[39;49m\u001B[43m,\u001B[49m\u001B[43m \u001B[49m\u001B[38;5;124;43m'\u001B[39;49m\u001B[38;5;124;43m10.12.2022\u001B[39;49m\u001B[38;5;124;43m'\u001B[39;49m\u001B[43m,\u001B[49m\u001B[43m \u001B[49m\u001B[38;5;124;43m'\u001B[39;49m\u001B[38;5;124;43mNone\u001B[39;49m\u001B[38;5;124;43m'\u001B[39;49m\u001B[43m)\u001B[49m\n\u001B[0;32m      3\u001B[0m cursor \u001B[38;5;241m=\u001B[39m connection\u001B[38;5;241m.\u001B[39mcursor()\n\u001B[0;32m      4\u001B[0m cursor\u001B[38;5;241m.\u001B[39mexecute(\u001B[38;5;124m\"\u001B[39m\u001B[38;5;124mSELECT * FROM Record\u001B[39m\u001B[38;5;124m\"\u001B[39m)\n",
      "Cell \u001B[1;32mIn [237], line 28\u001B[0m, in \u001B[0;36mgive_book\u001B[1;34m(book_id_int, reader_id_int, taking_date_str, returning_date_str)\u001B[0m\n\u001B[0;32m     23\u001B[0m cursor\u001B[38;5;241m.\u001B[39mexecute(\n\u001B[0;32m     24\u001B[0m     \u001B[38;5;124;03m'''SELECT * FROM Record WHERE book_id = {0} and reader_id = {1}'''\u001B[39;00m\u001B[38;5;241m.\u001B[39mformat(book_id_int, reader_id_int)\n\u001B[0;32m     25\u001B[0m )\n\u001B[0;32m     27\u001B[0m \u001B[38;5;28;01mif\u001B[39;00m cursor\u001B[38;5;241m.\u001B[39mfetchall() \u001B[38;5;241m!=\u001B[39m []:\n\u001B[1;32m---> 28\u001B[0m     \u001B[38;5;28;01mraise\u001B[39;00m \u001B[38;5;167;01mNameError\u001B[39;00m(\u001B[38;5;124m\"\u001B[39m\u001B[38;5;124mReader have already got this book\u001B[39m\u001B[38;5;124m\"\u001B[39m)\n\u001B[0;32m     30\u001B[0m cursor\u001B[38;5;241m.\u001B[39mexecutemany(\n\u001B[0;32m     31\u001B[0m     \u001B[38;5;124;03m'''INSERT INTO Record(book_id, reader_id, taking_date, returning_date)\u001B[39;00m\n\u001B[0;32m     32\u001B[0m \u001B[38;5;124;03m        VALUES (?, ?, ?, ?);'''\u001B[39;00m,\n\u001B[0;32m     33\u001B[0m     [(book_id_int, reader_id_int, taking_date_str, returning_date_str)]\n\u001B[0;32m     34\u001B[0m )\n\u001B[0;32m     36\u001B[0m connection\u001B[38;5;241m.\u001B[39mcommit()\n",
      "\u001B[1;31mNameError\u001B[0m: Reader have already got this book"
     ]
    }
   ],
   "source": [
    "give_book(5, 1, '10.12.2022', 'None')\n",
    "\n",
    "cursor = connection.cursor()\n",
    "cursor.execute(\"SELECT * FROM Record\")\n",
    "print(cursor.fetchall())"
   ],
   "metadata": {
    "collapsed": false
   }
  },
  {
   "cell_type": "code",
   "execution_count": 243,
   "outputs": [
    {
     "ename": "AttributeError",
     "evalue": "There is no such book",
     "output_type": "error",
     "traceback": [
      "\u001B[1;31m---------------------------------------------------------------------------\u001B[0m",
      "\u001B[1;31mAttributeError\u001B[0m                            Traceback (most recent call last)",
      "Cell \u001B[1;32mIn [243], line 1\u001B[0m\n\u001B[1;32m----> 1\u001B[0m \u001B[43mgive_book\u001B[49m\u001B[43m(\u001B[49m\u001B[38;5;241;43m10\u001B[39;49m\u001B[43m,\u001B[49m\u001B[43m \u001B[49m\u001B[38;5;241;43m3\u001B[39;49m\u001B[43m,\u001B[49m\u001B[43m \u001B[49m\u001B[38;5;124;43m'\u001B[39;49m\u001B[38;5;124;43m10.04.2022\u001B[39;49m\u001B[38;5;124;43m'\u001B[39;49m\u001B[43m,\u001B[49m\u001B[43m \u001B[49m\u001B[38;5;124;43m'\u001B[39;49m\u001B[38;5;124;43mNone\u001B[39;49m\u001B[38;5;124;43m'\u001B[39;49m\u001B[43m)\u001B[49m\n",
      "Cell \u001B[1;32mIn [237], line 21\u001B[0m, in \u001B[0;36mgive_book\u001B[1;34m(book_id_int, reader_id_int, taking_date_str, returning_date_str)\u001B[0m\n\u001B[0;32m     18\u001B[0m     book_index\u001B[38;5;241m.\u001B[39mappend(\u001B[38;5;28mint\u001B[39m(i[\u001B[38;5;241m0\u001B[39m]))\n\u001B[0;32m     20\u001B[0m \u001B[38;5;28;01mif\u001B[39;00m book_id_int \u001B[38;5;129;01mnot\u001B[39;00m \u001B[38;5;129;01min\u001B[39;00m book_index:\n\u001B[1;32m---> 21\u001B[0m     \u001B[38;5;28;01mraise\u001B[39;00m \u001B[38;5;167;01mAttributeError\u001B[39;00m(\u001B[38;5;124m'\u001B[39m\u001B[38;5;124mThere is no such book\u001B[39m\u001B[38;5;124m'\u001B[39m)\n\u001B[0;32m     23\u001B[0m cursor\u001B[38;5;241m.\u001B[39mexecute(\n\u001B[0;32m     24\u001B[0m     \u001B[38;5;124;03m'''SELECT * FROM Record WHERE book_id = {0} and reader_id = {1}'''\u001B[39;00m\u001B[38;5;241m.\u001B[39mformat(book_id_int, reader_id_int)\n\u001B[0;32m     25\u001B[0m )\n\u001B[0;32m     27\u001B[0m \u001B[38;5;28;01mif\u001B[39;00m cursor\u001B[38;5;241m.\u001B[39mfetchall() \u001B[38;5;241m!=\u001B[39m []:\n",
      "\u001B[1;31mAttributeError\u001B[0m: There is no such book"
     ]
    }
   ],
   "source": [
    "give_book(10, 3, '10.04.2022', 'None')"
   ],
   "metadata": {
    "collapsed": false
   }
  },
  {
   "cell_type": "code",
   "execution_count": 244,
   "outputs": [
    {
     "ename": "AttributeError",
     "evalue": "There is no such reader",
     "output_type": "error",
     "traceback": [
      "\u001B[1;31m---------------------------------------------------------------------------\u001B[0m",
      "\u001B[1;31mAttributeError\u001B[0m                            Traceback (most recent call last)",
      "Cell \u001B[1;32mIn [244], line 1\u001B[0m\n\u001B[1;32m----> 1\u001B[0m \u001B[43mgive_book\u001B[49m\u001B[43m(\u001B[49m\u001B[38;5;241;43m1\u001B[39;49m\u001B[43m,\u001B[49m\u001B[43m \u001B[49m\u001B[38;5;241;43m100\u001B[39;49m\u001B[43m,\u001B[49m\u001B[43m \u001B[49m\u001B[38;5;124;43m'\u001B[39;49m\u001B[38;5;124;43m10.04.2022\u001B[39;49m\u001B[38;5;124;43m'\u001B[39;49m\u001B[43m,\u001B[49m\u001B[43m \u001B[49m\u001B[38;5;124;43m'\u001B[39;49m\u001B[38;5;124;43mNone\u001B[39;49m\u001B[38;5;124;43m'\u001B[39;49m\u001B[43m)\u001B[49m\n",
      "Cell \u001B[1;32mIn [237], line 13\u001B[0m, in \u001B[0;36mgive_book\u001B[1;34m(book_id_int, reader_id_int, taking_date_str, returning_date_str)\u001B[0m\n\u001B[0;32m     10\u001B[0m     reader_index\u001B[38;5;241m.\u001B[39mappend(\u001B[38;5;28mint\u001B[39m(i[\u001B[38;5;241m0\u001B[39m]))\n\u001B[0;32m     12\u001B[0m \u001B[38;5;28;01mif\u001B[39;00m reader_id_int \u001B[38;5;129;01mnot\u001B[39;00m \u001B[38;5;129;01min\u001B[39;00m reader_index:\n\u001B[1;32m---> 13\u001B[0m     \u001B[38;5;28;01mraise\u001B[39;00m \u001B[38;5;167;01mAttributeError\u001B[39;00m(\u001B[38;5;124m'\u001B[39m\u001B[38;5;124mThere is no such reader\u001B[39m\u001B[38;5;124m'\u001B[39m)\n\u001B[0;32m     15\u001B[0m book_index_1 \u001B[38;5;241m=\u001B[39m \u001B[38;5;28mlist\u001B[39m(cursor\u001B[38;5;241m.\u001B[39mexecute(\u001B[38;5;124m\"\u001B[39m\u001B[38;5;124mSELECT id FROM Book\u001B[39m\u001B[38;5;124m\"\u001B[39m))\n\u001B[0;32m     16\u001B[0m book_index \u001B[38;5;241m=\u001B[39m []\n",
      "\u001B[1;31mAttributeError\u001B[0m: There is no such reader"
     ]
    }
   ],
   "source": [
    "give_book(1, 100, '10.04.2022', 'None')"
   ],
   "metadata": {
    "collapsed": false
   }
  },
  {
   "cell_type": "code",
   "execution_count": 245,
   "outputs": [
    {
     "ename": "TypeError",
     "evalue": "Need int!",
     "output_type": "error",
     "traceback": [
      "\u001B[1;31m---------------------------------------------------------------------------\u001B[0m",
      "\u001B[1;31mTypeError\u001B[0m                                 Traceback (most recent call last)",
      "Cell \u001B[1;32mIn [245], line 1\u001B[0m\n\u001B[1;32m----> 1\u001B[0m \u001B[43mgive_book\u001B[49m\u001B[43m(\u001B[49m\u001B[38;5;124;43m\"\u001B[39;49m\u001B[38;5;124;43m1\u001B[39;49m\u001B[38;5;124;43m\"\u001B[39;49m\u001B[43m,\u001B[49m\u001B[43m \u001B[49m\u001B[38;5;241;43m100\u001B[39;49m\u001B[43m,\u001B[49m\u001B[43m \u001B[49m\u001B[38;5;124;43m'\u001B[39;49m\u001B[38;5;124;43m10.04.2022\u001B[39;49m\u001B[38;5;124;43m'\u001B[39;49m\u001B[43m,\u001B[49m\u001B[43m \u001B[49m\u001B[38;5;124;43m'\u001B[39;49m\u001B[38;5;124;43mNone\u001B[39;49m\u001B[38;5;124;43m'\u001B[39;49m\u001B[43m)\u001B[49m\n",
      "Cell \u001B[1;32mIn [237], line 5\u001B[0m, in \u001B[0;36mgive_book\u001B[1;34m(book_id_int, reader_id_int, taking_date_str, returning_date_str)\u001B[0m\n\u001B[0;32m      2\u001B[0m cursor \u001B[38;5;241m=\u001B[39m connection\u001B[38;5;241m.\u001B[39mcursor()\n\u001B[0;32m      4\u001B[0m \u001B[38;5;28;01mif\u001B[39;00m \u001B[38;5;28mtype\u001B[39m(reader_id_int) \u001B[38;5;241m!=\u001B[39m \u001B[38;5;28mint\u001B[39m \u001B[38;5;129;01mor\u001B[39;00m \u001B[38;5;28mtype\u001B[39m(book_id_int) \u001B[38;5;241m!=\u001B[39m \u001B[38;5;28mint\u001B[39m:\n\u001B[1;32m----> 5\u001B[0m     \u001B[38;5;28;01mraise\u001B[39;00m \u001B[38;5;167;01mTypeError\u001B[39;00m(\u001B[38;5;124m\"\u001B[39m\u001B[38;5;124mNeed int!\u001B[39m\u001B[38;5;124m\"\u001B[39m)\n\u001B[0;32m      7\u001B[0m reader_index_1 \u001B[38;5;241m=\u001B[39m \u001B[38;5;28mlist\u001B[39m(cursor\u001B[38;5;241m.\u001B[39mexecute(\u001B[38;5;124m\"\u001B[39m\u001B[38;5;124mSELECT id FROM Reader\u001B[39m\u001B[38;5;124m\"\u001B[39m))\n\u001B[0;32m      8\u001B[0m reader_index \u001B[38;5;241m=\u001B[39m []\n",
      "\u001B[1;31mTypeError\u001B[0m: Need int!"
     ]
    }
   ],
   "source": [
    "give_book(\"1\", 100, '10.04.2022', 'None')"
   ],
   "metadata": {
    "collapsed": false
   }
  },
  {
   "cell_type": "markdown",
   "source": [
    "Принять книгу"
   ],
   "metadata": {
    "collapsed": false
   }
  },
  {
   "cell_type": "code",
   "execution_count": 257,
   "outputs": [],
   "source": [
    "def get_book(book_id_int, reader_id_int, taking_date_str, returning_date_str):\n",
    "    cursor = connection.cursor()\n",
    "\n",
    "    if type(reader_id_int) != int or type(book_id_int) != int:\n",
    "        raise TypeError(\"Need int!\")\n",
    "\n",
    "    reader_index_1 = list(cursor.execute(\"SELECT id FROM Reader\"))\n",
    "    reader_index = []\n",
    "    for i in reader_index_1:\n",
    "        reader_index.append(int(i[0]))\n",
    "\n",
    "    if reader_id_int not in reader_index:\n",
    "        raise AttributeError('There is no such reader')\n",
    "\n",
    "    book_index_1 = list(cursor.execute(\"SELECT id FROM Book\"))\n",
    "    book_index = []\n",
    "    for i in book_index_1:\n",
    "        book_index.append(int(i[0]))\n",
    "\n",
    "    if book_id_int not in book_index:\n",
    "        raise AttributeError('There is no such book')\n",
    "\n",
    "    cursor.execute(\n",
    "        '''DELETE FROM Record WHERE book_id = {0} and reader_id = {1}'''.format(book_id_int, reader_id_int)\n",
    "    )\n",
    "\n",
    "    cursor.executemany(\n",
    "        '''INSERT INTO Record(book_id, reader_id, taking_date, returning_date)\n",
    "            VALUES (?, ?, ?, ?);''',\n",
    "        [(book_id_int, reader_id_int, taking_date_str, returning_date_str)]\n",
    "    )\n",
    "\n",
    "    connection.commit()"
   ],
   "metadata": {
    "collapsed": false
   }
  },
  {
   "cell_type": "code",
   "execution_count": 258,
   "outputs": [
    {
     "name": "stdout",
     "output_type": "stream",
     "text": [
      "[(1, 1, '04.03.2010', '04.04.2010'), (1, 2, '04.03.2011', '11.22.2011'), (2, 5, '04.03.2012', '05.23.2012'), (1, 4, '04.03.2010', '04.14.2010'), (3, 1, '05.03.2010', '04.03.2011'), (5, 1, '10.04.2022', '10.04.2023')]\n"
     ]
    }
   ],
   "source": [
    "get_book(5, 1, '10.04.2022', '10.04.2023')\n",
    "\n",
    "cursor = connection.cursor()\n",
    "cursor.execute(\"SELECT * FROM Record\")\n",
    "print(cursor.fetchall())"
   ],
   "metadata": {
    "collapsed": false
   }
  },
  {
   "cell_type": "code",
   "execution_count": 259,
   "outputs": [],
   "source": [
    "def get_book_2(book_id_int, reader_id_int, returning_date_str):\n",
    "    cursor = connection.cursor()\n",
    "\n",
    "    if type(reader_id_int) != int or type(book_id_int) != int:\n",
    "        raise TypeError(\"Need int!\")\n",
    "\n",
    "    reader_index_1 = list(cursor.execute(\"SELECT id FROM Reader\"))\n",
    "    reader_index = []\n",
    "    for i in reader_index_1:\n",
    "        reader_index.append(int(i[0]))\n",
    "\n",
    "    if reader_id_int not in reader_index:\n",
    "        raise AttributeError('There is no such reader')\n",
    "\n",
    "    book_index_1 = list(cursor.execute(\"SELECT id FROM Book\"))\n",
    "    book_index = []\n",
    "    for i in book_index_1:\n",
    "        book_index.append(int(i[0]))\n",
    "\n",
    "    if book_id_int not in book_index:\n",
    "        raise AttributeError('There is no such book')\n",
    "\n",
    "    cursor.execute(\n",
    "        '''UPDATE Record\n",
    "        WHERE book_id = {0} and reader_id = {1}\n",
    "        SET returning_date = {2}\n",
    "        '''.format(book_id_int, reader_id_int, returning_date_str)\n",
    "    )\n",
    "\n",
    "    connection.commit()"
   ],
   "metadata": {
    "collapsed": false
   }
  },
  {
   "cell_type": "code",
   "execution_count": 264,
   "outputs": [
    {
     "name": "stdout",
     "output_type": "stream",
     "text": [
      "[(1, 1, '04.03.2010', '04.04.2010'), (1, 2, '04.03.2011', '11.22.2011'), (2, 5, '04.03.2012', '05.23.2012'), (1, 4, '04.03.2010', '04.14.2010'), (3, 1, '05.03.2010', '04.03.2011'), (4, 1, '10.12.2022', 'None')] \n",
      "\n",
      "\n",
      "\n",
      "[(1, 1, '04.03.2010', '04.04.2010'), (1, 2, '04.03.2011', '11.22.2011'), (2, 5, '04.03.2012', '05.23.2012'), (1, 4, '04.03.2010', '04.14.2010'), (3, 1, '05.03.2010', '04.03.2011'), (4, 1, '10.04.2022', '10.04.2023')]\n"
     ]
    }
   ],
   "source": [
    "give_book(4, 1, '10.12.2022', 'None')\n",
    "\n",
    "cursor = connection.cursor()\n",
    "cursor.execute(\"SELECT * FROM Record\")\n",
    "print(cursor.fetchall(), '\\n\\n\\n')\n",
    "\n",
    "\n",
    "get_book(4, 1, '10.04.2022', '10.04.2023')\n",
    "\n",
    "cursor = connection.cursor()\n",
    "cursor.execute(\"SELECT * FROM Record\")\n",
    "print(cursor.fetchall())"
   ],
   "metadata": {
    "collapsed": false
   }
  },
  {
   "cell_type": "code",
   "execution_count": null,
   "outputs": [],
   "source": [],
   "metadata": {
    "collapsed": false
   }
  }
 ],
 "metadata": {
  "kernelspec": {
   "display_name": "Python 3",
   "language": "python",
   "name": "python3"
  },
  "language_info": {
   "codemirror_mode": {
    "name": "ipython",
    "version": 2
   },
   "file_extension": ".py",
   "mimetype": "text/x-python",
   "name": "python",
   "nbconvert_exporter": "python",
   "pygments_lexer": "ipython2",
   "version": "2.7.6"
  }
 },
 "nbformat": 4,
 "nbformat_minor": 0
}

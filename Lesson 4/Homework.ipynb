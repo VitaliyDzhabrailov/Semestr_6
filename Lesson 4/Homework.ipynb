{
 "cells": [
  {
   "cell_type": "code",
   "execution_count": 3,
   "metadata": {
    "collapsed": true
   },
   "outputs": [],
   "source": [
    "import sqlite3"
   ]
  },
  {
   "cell_type": "code",
   "execution_count": 4,
   "outputs": [],
   "source": [
    "DB_PATH = \"Books.db\"\n",
    "connection = sqlite3.connect(DB_PATH)"
   ],
   "metadata": {
    "collapsed": false
   }
  },
  {
   "cell_type": "code",
   "execution_count": 5,
   "outputs": [],
   "source": [
    "cursor = connection.cursor()\n",
    "\n",
    "\n",
    "cursor.execute('''\n",
    "    CREATE TABLE  IF NOT EXISTS Book(\n",
    "        id INTEGER PRIMARY KEY,\n",
    "        author TEXT,\n",
    "        title TEXT,\n",
    "        publish_year TEXT\n",
    "    );\n",
    "''')\n",
    "\n",
    "\n",
    "connection.commit()"
   ],
   "metadata": {
    "collapsed": false
   }
  },
  {
   "cell_type": "code",
   "execution_count": 6,
   "outputs": [],
   "source": [
    "cursor.execute('''\n",
    "    CREATE TABLE IF NOT EXISTS Reader(\n",
    "        id INTEGER PRIMARY KEY,\n",
    "        name TEXT\n",
    "    );\n",
    "''')\n",
    "\n",
    "\n",
    "connection.commit()"
   ],
   "metadata": {
    "collapsed": false
   }
  },
  {
   "cell_type": "code",
   "execution_count": 7,
   "outputs": [],
   "source": [
    "cursor.execute('''\n",
    "    CREATE TABLE IF NOT EXISTS Record(\n",
    "        book_id INT NOT NULL,\n",
    "        reader_id INT NOT NULL,\n",
    "        taking_date TEXT,\n",
    "        returning_date TEXT,\n",
    "        FOREIGN KEY (book_id) REFERENCES Book (id),\n",
    "        FOREIGN KEY (reader_id) REFERENCES Reader (id)\n",
    "    );\n",
    "''')\n",
    "\n",
    "\n",
    "connection.commit()"
   ],
   "metadata": {
    "collapsed": false
   }
  },
  {
   "cell_type": "code",
   "execution_count": 8,
   "outputs": [
    {
     "ename": "IntegrityError",
     "evalue": "UNIQUE constraint failed: Reader.id",
     "output_type": "error",
     "traceback": [
      "\u001B[1;31m---------------------------------------------------------------------------\u001B[0m",
      "\u001B[1;31mIntegrityError\u001B[0m                            Traceback (most recent call last)",
      "Cell \u001B[1;32mIn [8], line 1\u001B[0m\n\u001B[1;32m----> 1\u001B[0m \u001B[43mcursor\u001B[49m\u001B[38;5;241;43m.\u001B[39;49m\u001B[43mexecute\u001B[49m\u001B[43m(\u001B[49m\u001B[38;5;124;43m'''\u001B[39;49m\n\u001B[0;32m      2\u001B[0m \u001B[38;5;124;43m    INSERT INTO Reader VALUES\u001B[39;49m\n\u001B[0;32m      3\u001B[0m \u001B[38;5;124;43m        (1, \u001B[39;49m\u001B[38;5;124;43m'\u001B[39;49m\u001B[38;5;124;43mReader 1\u001B[39;49m\u001B[38;5;124;43m'\u001B[39;49m\u001B[38;5;124;43m),\u001B[39;49m\n\u001B[0;32m      4\u001B[0m \u001B[38;5;124;43m        (2, \u001B[39;49m\u001B[38;5;124;43m'\u001B[39;49m\u001B[38;5;124;43mReader 2\u001B[39;49m\u001B[38;5;124;43m'\u001B[39;49m\u001B[38;5;124;43m),\u001B[39;49m\n\u001B[0;32m      5\u001B[0m \u001B[38;5;124;43m        (3, \u001B[39;49m\u001B[38;5;124;43m'\u001B[39;49m\u001B[38;5;124;43mReader 3\u001B[39;49m\u001B[38;5;124;43m'\u001B[39;49m\u001B[38;5;124;43m),\u001B[39;49m\n\u001B[0;32m      6\u001B[0m \u001B[38;5;124;43m        (4, \u001B[39;49m\u001B[38;5;124;43m'\u001B[39;49m\u001B[38;5;124;43mReader 1\u001B[39;49m\u001B[38;5;124;43m'\u001B[39;49m\u001B[38;5;124;43m);\u001B[39;49m\n\u001B[0;32m      7\u001B[0m \u001B[38;5;124;43m'''\u001B[39;49m\u001B[43m)\u001B[49m\n\u001B[0;32m      9\u001B[0m connection\u001B[38;5;241m.\u001B[39mcommit()\n",
      "\u001B[1;31mIntegrityError\u001B[0m: UNIQUE constraint failed: Reader.id"
     ]
    }
   ],
   "source": [
    "\n",
    "cursor.execute('''\n",
    "    INSERT INTO Reader VALUES\n",
    "        (1, 'Reader 1'),\n",
    "        (2, 'Reader 2'),\n",
    "        (3, 'Reader 3'),\n",
    "        (4, 'Reader 1');\n",
    "''')\n",
    "\n",
    "connection.commit()"
   ],
   "metadata": {
    "collapsed": false
   }
  },
  {
   "cell_type": "code",
   "execution_count": 9,
   "outputs": [
    {
     "ename": "IntegrityError",
     "evalue": "UNIQUE constraint failed: Book.id",
     "output_type": "error",
     "traceback": [
      "\u001B[1;31m---------------------------------------------------------------------------\u001B[0m",
      "\u001B[1;31mIntegrityError\u001B[0m                            Traceback (most recent call last)",
      "Cell \u001B[1;32mIn [9], line 1\u001B[0m\n\u001B[1;32m----> 1\u001B[0m \u001B[43mcursor\u001B[49m\u001B[38;5;241;43m.\u001B[39;49m\u001B[43mexecute\u001B[49m\u001B[43m(\u001B[49m\u001B[38;5;124;43m'''\u001B[39;49m\n\u001B[0;32m      2\u001B[0m \u001B[38;5;124;43m    INSERT INTO Book VALUES\u001B[39;49m\n\u001B[0;32m      3\u001B[0m \u001B[38;5;124;43m        (1, \u001B[39;49m\u001B[38;5;124;43m'\u001B[39;49m\u001B[38;5;124;43mauthor 1\u001B[39;49m\u001B[38;5;124;43m'\u001B[39;49m\u001B[38;5;124;43m, \u001B[39;49m\u001B[38;5;124;43m'\u001B[39;49m\u001B[38;5;124;43mtitle 1\u001B[39;49m\u001B[38;5;124;43m'\u001B[39;49m\u001B[38;5;124;43m, \u001B[39;49m\u001B[38;5;124;43m'\u001B[39;49m\u001B[38;5;124;43m2002\u001B[39;49m\u001B[38;5;124;43m'\u001B[39;49m\u001B[38;5;124;43m),\u001B[39;49m\n\u001B[0;32m      4\u001B[0m \u001B[38;5;124;43m        (2, \u001B[39;49m\u001B[38;5;124;43m'\u001B[39;49m\u001B[38;5;124;43mauthor 2\u001B[39;49m\u001B[38;5;124;43m'\u001B[39;49m\u001B[38;5;124;43m, \u001B[39;49m\u001B[38;5;124;43m'\u001B[39;49m\u001B[38;5;124;43mtitle 2\u001B[39;49m\u001B[38;5;124;43m'\u001B[39;49m\u001B[38;5;124;43m, \u001B[39;49m\u001B[38;5;124;43m'\u001B[39;49m\u001B[38;5;124;43m2002\u001B[39;49m\u001B[38;5;124;43m'\u001B[39;49m\u001B[38;5;124;43m),\u001B[39;49m\n\u001B[0;32m      5\u001B[0m \u001B[38;5;124;43m        (3, \u001B[39;49m\u001B[38;5;124;43m'\u001B[39;49m\u001B[38;5;124;43mauthor 3\u001B[39;49m\u001B[38;5;124;43m'\u001B[39;49m\u001B[38;5;124;43m, \u001B[39;49m\u001B[38;5;124;43m'\u001B[39;49m\u001B[38;5;124;43mtitle 3\u001B[39;49m\u001B[38;5;124;43m'\u001B[39;49m\u001B[38;5;124;43m, \u001B[39;49m\u001B[38;5;124;43m'\u001B[39;49m\u001B[38;5;124;43m2003\u001B[39;49m\u001B[38;5;124;43m'\u001B[39;49m\u001B[38;5;124;43m),\u001B[39;49m\n\u001B[0;32m      6\u001B[0m \u001B[38;5;124;43m        (4, \u001B[39;49m\u001B[38;5;124;43m'\u001B[39;49m\u001B[38;5;124;43mauthor 1\u001B[39;49m\u001B[38;5;124;43m'\u001B[39;49m\u001B[38;5;124;43m, \u001B[39;49m\u001B[38;5;124;43m'\u001B[39;49m\u001B[38;5;124;43mtitle 4\u001B[39;49m\u001B[38;5;124;43m'\u001B[39;49m\u001B[38;5;124;43m, \u001B[39;49m\u001B[38;5;124;43m'\u001B[39;49m\u001B[38;5;124;43m2002\u001B[39;49m\u001B[38;5;124;43m'\u001B[39;49m\u001B[38;5;124;43m),\u001B[39;49m\n\u001B[0;32m      7\u001B[0m \u001B[38;5;124;43m        (5, \u001B[39;49m\u001B[38;5;124;43m'\u001B[39;49m\u001B[38;5;124;43mauthor 1\u001B[39;49m\u001B[38;5;124;43m'\u001B[39;49m\u001B[38;5;124;43m, \u001B[39;49m\u001B[38;5;124;43m'\u001B[39;49m\u001B[38;5;124;43mtitle 1\u001B[39;49m\u001B[38;5;124;43m'\u001B[39;49m\u001B[38;5;124;43m, \u001B[39;49m\u001B[38;5;124;43m'\u001B[39;49m\u001B[38;5;124;43m2004\u001B[39;49m\u001B[38;5;124;43m'\u001B[39;49m\u001B[38;5;124;43m),\u001B[39;49m\n\u001B[0;32m      8\u001B[0m \u001B[38;5;124;43m        (6, \u001B[39;49m\u001B[38;5;124;43m'\u001B[39;49m\u001B[38;5;124;43mauthor 4\u001B[39;49m\u001B[38;5;124;43m'\u001B[39;49m\u001B[38;5;124;43m, \u001B[39;49m\u001B[38;5;124;43m'\u001B[39;49m\u001B[38;5;124;43mtitle 5\u001B[39;49m\u001B[38;5;124;43m'\u001B[39;49m\u001B[38;5;124;43m, \u001B[39;49m\u001B[38;5;124;43m'\u001B[39;49m\u001B[38;5;124;43m2005\u001B[39;49m\u001B[38;5;124;43m'\u001B[39;49m\u001B[38;5;124;43m),\u001B[39;49m\n\u001B[0;32m      9\u001B[0m \u001B[38;5;124;43m        (7, \u001B[39;49m\u001B[38;5;124;43m'\u001B[39;49m\u001B[38;5;124;43mauthor 5\u001B[39;49m\u001B[38;5;124;43m'\u001B[39;49m\u001B[38;5;124;43m, \u001B[39;49m\u001B[38;5;124;43m'\u001B[39;49m\u001B[38;5;124;43mtitle 6\u001B[39;49m\u001B[38;5;124;43m'\u001B[39;49m\u001B[38;5;124;43m, \u001B[39;49m\u001B[38;5;124;43m'\u001B[39;49m\u001B[38;5;124;43m2022\u001B[39;49m\u001B[38;5;124;43m'\u001B[39;49m\u001B[38;5;124;43m);\u001B[39;49m\n\u001B[0;32m     10\u001B[0m \u001B[38;5;124;43m'''\u001B[39;49m\u001B[43m)\u001B[49m\n\u001B[0;32m     12\u001B[0m connection\u001B[38;5;241m.\u001B[39mcommit()\n",
      "\u001B[1;31mIntegrityError\u001B[0m: UNIQUE constraint failed: Book.id"
     ]
    }
   ],
   "source": [
    "cursor.execute('''\n",
    "    INSERT INTO Book VALUES\n",
    "        (1, 'author 1', 'title 1', '2002'),\n",
    "        (2, 'author 2', 'title 2', '2002'),\n",
    "        (3, 'author 3', 'title 3', '2003'),\n",
    "        (4, 'author 1', 'title 4', '2002'),\n",
    "        (5, 'author 1', 'title 1', '2004'),\n",
    "        (6, 'author 4', 'title 5', '2005'),\n",
    "        (7, 'author 5', 'title 6', '2022');\n",
    "''')\n",
    "\n",
    "connection.commit()"
   ],
   "metadata": {
    "collapsed": false
   }
  },
  {
   "cell_type": "code",
   "execution_count": 22,
   "outputs": [],
   "source": [
    "cursor = connection.cursor()\n",
    "cursor.execute('''\n",
    "    DELETE FROM Record\n",
    "''')\n",
    "\n",
    "cursor.execute('''\n",
    "    INSERT INTO Record VALUES\n",
    "        (1, 1, '04.03.2010', '04.04.2010'),\n",
    "        (1, 2, '04.03.2011', '11.22.2011'),\n",
    "        (2, 5, '04.03.2012', '05.23.2012'),\n",
    "        (1, 4, '04.03.2010', '04.14.2010'),\n",
    "        (3, 1, '05.03.2010', '04.03.2011');\n",
    "''')\n",
    "\n",
    "connection.commit()"
   ],
   "metadata": {
    "collapsed": false
   }
  },
  {
   "cell_type": "code",
   "execution_count": 23,
   "outputs": [
    {
     "name": "stdout",
     "output_type": "stream",
     "text": [
      "[(1, 'author 1', 'title 1', '2002')] \n",
      "\n",
      "[(1, 'Reader 1')] \n",
      "\n",
      "[(2, 5, '04.03.2012', '05.23.2012')] \n",
      "\n"
     ]
    }
   ],
   "source": [
    "cursor = connection.cursor()\n",
    "\n",
    "cursor.execute(\"SELECT * FROM Book WHERE id = 1\")\n",
    "print(cursor.fetchall(), '\\n')\n",
    "\n",
    "cursor.execute(\"SELECT * FROM Reader WHERE id = 1\")\n",
    "print(cursor.fetchall(), '\\n')\n",
    "\n",
    "cursor.execute(\"SELECT * FROM Record WHERE book_id = 2\")\n",
    "print(cursor.fetchall(), '\\n')"
   ],
   "metadata": {
    "collapsed": false
   }
  },
  {
   "cell_type": "markdown",
   "source": [
    "Вывод списка книг"
   ],
   "metadata": {
    "collapsed": false
   }
  },
  {
   "cell_type": "code",
   "execution_count": 53,
   "outputs": [
    {
     "name": "stdout",
     "output_type": "stream",
     "text": [
      "title 1\n",
      "title 2\n",
      "title 3\n",
      "title 4\n",
      "title 1\n",
      "title 5\n",
      "title 6\n"
     ]
    }
   ],
   "source": [
    "def list_of_books():\n",
    "    cursor = connection.cursor()\n",
    "\n",
    "    book_index = list(cursor.execute(\"SELECT id FROM Book\"))\n",
    "    for i in book_index:\n",
    "        cursor.execute(\"SELECT title FROM Book WHERE id={0}\".format(i[0]))\n",
    "        print(cursor.fetchall()[0][0])\n",
    "\n",
    "list_of_books()"
   ],
   "metadata": {
    "collapsed": false
   }
  },
  {
   "cell_type": "code",
   "execution_count": null,
   "outputs": [],
   "source": [],
   "metadata": {
    "collapsed": false
   }
  }
 ],
 "metadata": {
  "kernelspec": {
   "display_name": "Python 3",
   "language": "python",
   "name": "python3"
  },
  "language_info": {
   "codemirror_mode": {
    "name": "ipython",
    "version": 2
   },
   "file_extension": ".py",
   "mimetype": "text/x-python",
   "name": "python",
   "nbconvert_exporter": "python",
   "pygments_lexer": "ipython2",
   "version": "2.7.6"
  }
 },
 "nbformat": 4,
 "nbformat_minor": 0
}
